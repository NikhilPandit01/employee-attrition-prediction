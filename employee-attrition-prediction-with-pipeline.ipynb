{
 "cells": [
  {
   "cell_type": "code",
   "execution_count": 1,
   "id": "317eb07e",
   "metadata": {
    "_cell_guid": "b1076dfc-b9ad-4769-8c92-a6c4dae69d19",
    "_uuid": "8f2839f25d086af736a60e9eeb907d3b93b6e0e5",
    "execution": {
     "iopub.execute_input": "2024-07-10T15:12:24.883174Z",
     "iopub.status.busy": "2024-07-10T15:12:24.882714Z",
     "iopub.status.idle": "2024-07-10T15:12:25.820630Z",
     "shell.execute_reply": "2024-07-10T15:12:25.819071Z"
    },
    "papermill": {
     "duration": 0.959465,
     "end_time": "2024-07-10T15:12:25.823599",
     "exception": false,
     "start_time": "2024-07-10T15:12:24.864134",
     "status": "completed"
    },
    "tags": []
   },
   "outputs": [
    {
     "name": "stdout",
     "output_type": "stream",
     "text": [
      "/kaggle/input/employee-data-analysis/manager_survey_data.csv\n",
      "/kaggle/input/employee-data-analysis/employee_survey_data.csv\n",
      "/kaggle/input/employee-data-analysis/general_data.csv\n"
     ]
    }
   ],
   "source": [
    "# This Python 3 environment comes with many helpful analytics libraries installed\n",
    "# It is defined by the kaggle/python Docker image: https://github.com/kaggle/docker-python\n",
    "# For example, here's several helpful packages to load\n",
    "\n",
    "import numpy as np # linear algebra\n",
    "import pandas as pd # data processing, CSV file I/O (e.g. pd.read_csv)\n",
    "\n",
    "# Input data files are available in the read-only \"../input/\" directory\n",
    "# For example, running this (by clicking run or pressing Shift+Enter) will list all files under the input directory\n",
    "\n",
    "import os\n",
    "for dirname, _, filenames in os.walk('/kaggle/input'):\n",
    "    for filename in filenames:\n",
    "        print(os.path.join(dirname, filename))\n",
    "\n",
    "# You can write up to 20GB to the current directory (/kaggle/working/) that gets preserved as output when you create a version using \"Save & Run All\" \n",
    "# You can also write temporary files to /kaggle/temp/, but they won't be saved outside of the current session"
   ]
  },
  {
   "cell_type": "markdown",
   "id": "45b9a599",
   "metadata": {
    "papermill": {
     "duration": 0.016072,
     "end_time": "2024-07-10T15:12:25.856533",
     "exception": false,
     "start_time": "2024-07-10T15:12:25.840461",
     "status": "completed"
    },
    "tags": []
   },
   "source": [
    "# Loading the Datasets"
   ]
  },
  {
   "cell_type": "code",
   "execution_count": 2,
   "id": "cb8f9de8",
   "metadata": {
    "execution": {
     "iopub.execute_input": "2024-07-10T15:12:25.891189Z",
     "iopub.status.busy": "2024-07-10T15:12:25.890602Z",
     "iopub.status.idle": "2024-07-10T15:12:25.951316Z",
     "shell.execute_reply": "2024-07-10T15:12:25.950020Z"
    },
    "papermill": {
     "duration": 0.081321,
     "end_time": "2024-07-10T15:12:25.954109",
     "exception": false,
     "start_time": "2024-07-10T15:12:25.872788",
     "status": "completed"
    },
    "tags": []
   },
   "outputs": [],
   "source": [
    "df1=pd.read_csv('/kaggle/input/employee-data-analysis/manager_survey_data.csv')\n",
    "df2=pd.read_csv('/kaggle/input/employee-data-analysis/employee_survey_data.csv')\n",
    "df3=pd.read_csv('/kaggle/input/employee-data-analysis/general_data.csv')"
   ]
  },
  {
   "cell_type": "code",
   "execution_count": 3,
   "id": "1fb25ff5",
   "metadata": {
    "execution": {
     "iopub.execute_input": "2024-07-10T15:12:25.988895Z",
     "iopub.status.busy": "2024-07-10T15:12:25.987883Z",
     "iopub.status.idle": "2024-07-10T15:12:26.008542Z",
     "shell.execute_reply": "2024-07-10T15:12:26.007324Z"
    },
    "papermill": {
     "duration": 0.040827,
     "end_time": "2024-07-10T15:12:26.011233",
     "exception": false,
     "start_time": "2024-07-10T15:12:25.970406",
     "status": "completed"
    },
    "tags": []
   },
   "outputs": [
    {
     "data": {
      "text/html": [
       "<div>\n",
       "<style scoped>\n",
       "    .dataframe tbody tr th:only-of-type {\n",
       "        vertical-align: middle;\n",
       "    }\n",
       "\n",
       "    .dataframe tbody tr th {\n",
       "        vertical-align: top;\n",
       "    }\n",
       "\n",
       "    .dataframe thead th {\n",
       "        text-align: right;\n",
       "    }\n",
       "</style>\n",
       "<table border=\"1\" class=\"dataframe\">\n",
       "  <thead>\n",
       "    <tr style=\"text-align: right;\">\n",
       "      <th></th>\n",
       "      <th>EmployeeID</th>\n",
       "      <th>JobInvolvement</th>\n",
       "      <th>PerformanceRating</th>\n",
       "    </tr>\n",
       "  </thead>\n",
       "  <tbody>\n",
       "    <tr>\n",
       "      <th>0</th>\n",
       "      <td>1</td>\n",
       "      <td>3</td>\n",
       "      <td>3</td>\n",
       "    </tr>\n",
       "    <tr>\n",
       "      <th>1</th>\n",
       "      <td>2</td>\n",
       "      <td>2</td>\n",
       "      <td>4</td>\n",
       "    </tr>\n",
       "  </tbody>\n",
       "</table>\n",
       "</div>"
      ],
      "text/plain": [
       "   EmployeeID  JobInvolvement  PerformanceRating\n",
       "0           1               3                  3\n",
       "1           2               2                  4"
      ]
     },
     "execution_count": 3,
     "metadata": {},
     "output_type": "execute_result"
    }
   ],
   "source": [
    "df1.head(2)"
   ]
  },
  {
   "cell_type": "code",
   "execution_count": 4,
   "id": "1a610ddc",
   "metadata": {
    "execution": {
     "iopub.execute_input": "2024-07-10T15:12:26.046173Z",
     "iopub.status.busy": "2024-07-10T15:12:26.045759Z",
     "iopub.status.idle": "2024-07-10T15:12:26.061258Z",
     "shell.execute_reply": "2024-07-10T15:12:26.059834Z"
    },
    "papermill": {
     "duration": 0.036759,
     "end_time": "2024-07-10T15:12:26.064245",
     "exception": false,
     "start_time": "2024-07-10T15:12:26.027486",
     "status": "completed"
    },
    "tags": []
   },
   "outputs": [
    {
     "data": {
      "text/html": [
       "<div>\n",
       "<style scoped>\n",
       "    .dataframe tbody tr th:only-of-type {\n",
       "        vertical-align: middle;\n",
       "    }\n",
       "\n",
       "    .dataframe tbody tr th {\n",
       "        vertical-align: top;\n",
       "    }\n",
       "\n",
       "    .dataframe thead th {\n",
       "        text-align: right;\n",
       "    }\n",
       "</style>\n",
       "<table border=\"1\" class=\"dataframe\">\n",
       "  <thead>\n",
       "    <tr style=\"text-align: right;\">\n",
       "      <th></th>\n",
       "      <th>EmployeeID</th>\n",
       "      <th>EnvironmentSatisfaction</th>\n",
       "      <th>JobSatisfaction</th>\n",
       "      <th>WorkLifeBalance</th>\n",
       "    </tr>\n",
       "  </thead>\n",
       "  <tbody>\n",
       "    <tr>\n",
       "      <th>0</th>\n",
       "      <td>1</td>\n",
       "      <td>3.0</td>\n",
       "      <td>4.0</td>\n",
       "      <td>2.0</td>\n",
       "    </tr>\n",
       "    <tr>\n",
       "      <th>1</th>\n",
       "      <td>2</td>\n",
       "      <td>3.0</td>\n",
       "      <td>2.0</td>\n",
       "      <td>4.0</td>\n",
       "    </tr>\n",
       "  </tbody>\n",
       "</table>\n",
       "</div>"
      ],
      "text/plain": [
       "   EmployeeID  EnvironmentSatisfaction  JobSatisfaction  WorkLifeBalance\n",
       "0           1                      3.0              4.0              2.0\n",
       "1           2                      3.0              2.0              4.0"
      ]
     },
     "execution_count": 4,
     "metadata": {},
     "output_type": "execute_result"
    }
   ],
   "source": [
    "df2.head(2)"
   ]
  },
  {
   "cell_type": "code",
   "execution_count": 5,
   "id": "65377ff3",
   "metadata": {
    "execution": {
     "iopub.execute_input": "2024-07-10T15:12:26.100711Z",
     "iopub.status.busy": "2024-07-10T15:12:26.099831Z",
     "iopub.status.idle": "2024-07-10T15:12:26.129591Z",
     "shell.execute_reply": "2024-07-10T15:12:26.128424Z"
    },
    "papermill": {
     "duration": 0.050735,
     "end_time": "2024-07-10T15:12:26.132028",
     "exception": false,
     "start_time": "2024-07-10T15:12:26.081293",
     "status": "completed"
    },
    "tags": []
   },
   "outputs": [
    {
     "data": {
      "text/html": [
       "<div>\n",
       "<style scoped>\n",
       "    .dataframe tbody tr th:only-of-type {\n",
       "        vertical-align: middle;\n",
       "    }\n",
       "\n",
       "    .dataframe tbody tr th {\n",
       "        vertical-align: top;\n",
       "    }\n",
       "\n",
       "    .dataframe thead th {\n",
       "        text-align: right;\n",
       "    }\n",
       "</style>\n",
       "<table border=\"1\" class=\"dataframe\">\n",
       "  <thead>\n",
       "    <tr style=\"text-align: right;\">\n",
       "      <th></th>\n",
       "      <th>Age</th>\n",
       "      <th>Attrition</th>\n",
       "      <th>BusinessTravel</th>\n",
       "      <th>Department</th>\n",
       "      <th>DistanceFromHome</th>\n",
       "      <th>Education</th>\n",
       "      <th>EducationField</th>\n",
       "      <th>EmployeeCount</th>\n",
       "      <th>EmployeeID</th>\n",
       "      <th>Gender</th>\n",
       "      <th>...</th>\n",
       "      <th>NumCompaniesWorked</th>\n",
       "      <th>Over18</th>\n",
       "      <th>PercentSalaryHike</th>\n",
       "      <th>StandardHours</th>\n",
       "      <th>StockOptionLevel</th>\n",
       "      <th>TotalWorkingYears</th>\n",
       "      <th>TrainingTimesLastYear</th>\n",
       "      <th>YearsAtCompany</th>\n",
       "      <th>YearsSinceLastPromotion</th>\n",
       "      <th>YearsWithCurrManager</th>\n",
       "    </tr>\n",
       "  </thead>\n",
       "  <tbody>\n",
       "    <tr>\n",
       "      <th>0</th>\n",
       "      <td>51</td>\n",
       "      <td>No</td>\n",
       "      <td>Travel_Rarely</td>\n",
       "      <td>Sales</td>\n",
       "      <td>6</td>\n",
       "      <td>2</td>\n",
       "      <td>Life Sciences</td>\n",
       "      <td>1</td>\n",
       "      <td>1</td>\n",
       "      <td>Female</td>\n",
       "      <td>...</td>\n",
       "      <td>1.0</td>\n",
       "      <td>Y</td>\n",
       "      <td>11</td>\n",
       "      <td>8</td>\n",
       "      <td>0</td>\n",
       "      <td>1.0</td>\n",
       "      <td>6</td>\n",
       "      <td>1</td>\n",
       "      <td>0</td>\n",
       "      <td>0</td>\n",
       "    </tr>\n",
       "    <tr>\n",
       "      <th>1</th>\n",
       "      <td>31</td>\n",
       "      <td>Yes</td>\n",
       "      <td>Travel_Frequently</td>\n",
       "      <td>Research &amp; Development</td>\n",
       "      <td>10</td>\n",
       "      <td>1</td>\n",
       "      <td>Life Sciences</td>\n",
       "      <td>1</td>\n",
       "      <td>2</td>\n",
       "      <td>Female</td>\n",
       "      <td>...</td>\n",
       "      <td>0.0</td>\n",
       "      <td>Y</td>\n",
       "      <td>23</td>\n",
       "      <td>8</td>\n",
       "      <td>1</td>\n",
       "      <td>6.0</td>\n",
       "      <td>3</td>\n",
       "      <td>5</td>\n",
       "      <td>1</td>\n",
       "      <td>4</td>\n",
       "    </tr>\n",
       "    <tr>\n",
       "      <th>2</th>\n",
       "      <td>32</td>\n",
       "      <td>No</td>\n",
       "      <td>Travel_Frequently</td>\n",
       "      <td>Research &amp; Development</td>\n",
       "      <td>17</td>\n",
       "      <td>4</td>\n",
       "      <td>Other</td>\n",
       "      <td>1</td>\n",
       "      <td>3</td>\n",
       "      <td>Male</td>\n",
       "      <td>...</td>\n",
       "      <td>1.0</td>\n",
       "      <td>Y</td>\n",
       "      <td>15</td>\n",
       "      <td>8</td>\n",
       "      <td>3</td>\n",
       "      <td>5.0</td>\n",
       "      <td>2</td>\n",
       "      <td>5</td>\n",
       "      <td>0</td>\n",
       "      <td>3</td>\n",
       "    </tr>\n",
       "    <tr>\n",
       "      <th>3</th>\n",
       "      <td>38</td>\n",
       "      <td>No</td>\n",
       "      <td>Non-Travel</td>\n",
       "      <td>Research &amp; Development</td>\n",
       "      <td>2</td>\n",
       "      <td>5</td>\n",
       "      <td>Life Sciences</td>\n",
       "      <td>1</td>\n",
       "      <td>4</td>\n",
       "      <td>Male</td>\n",
       "      <td>...</td>\n",
       "      <td>3.0</td>\n",
       "      <td>Y</td>\n",
       "      <td>11</td>\n",
       "      <td>8</td>\n",
       "      <td>3</td>\n",
       "      <td>13.0</td>\n",
       "      <td>5</td>\n",
       "      <td>8</td>\n",
       "      <td>7</td>\n",
       "      <td>5</td>\n",
       "    </tr>\n",
       "    <tr>\n",
       "      <th>4</th>\n",
       "      <td>32</td>\n",
       "      <td>No</td>\n",
       "      <td>Travel_Rarely</td>\n",
       "      <td>Research &amp; Development</td>\n",
       "      <td>10</td>\n",
       "      <td>1</td>\n",
       "      <td>Medical</td>\n",
       "      <td>1</td>\n",
       "      <td>5</td>\n",
       "      <td>Male</td>\n",
       "      <td>...</td>\n",
       "      <td>4.0</td>\n",
       "      <td>Y</td>\n",
       "      <td>12</td>\n",
       "      <td>8</td>\n",
       "      <td>2</td>\n",
       "      <td>9.0</td>\n",
       "      <td>2</td>\n",
       "      <td>6</td>\n",
       "      <td>0</td>\n",
       "      <td>4</td>\n",
       "    </tr>\n",
       "  </tbody>\n",
       "</table>\n",
       "<p>5 rows × 24 columns</p>\n",
       "</div>"
      ],
      "text/plain": [
       "   Age Attrition     BusinessTravel              Department  DistanceFromHome  \\\n",
       "0   51        No      Travel_Rarely                   Sales                 6   \n",
       "1   31       Yes  Travel_Frequently  Research & Development                10   \n",
       "2   32        No  Travel_Frequently  Research & Development                17   \n",
       "3   38        No         Non-Travel  Research & Development                 2   \n",
       "4   32        No      Travel_Rarely  Research & Development                10   \n",
       "\n",
       "   Education EducationField  EmployeeCount  EmployeeID  Gender  ...  \\\n",
       "0          2  Life Sciences              1           1  Female  ...   \n",
       "1          1  Life Sciences              1           2  Female  ...   \n",
       "2          4          Other              1           3    Male  ...   \n",
       "3          5  Life Sciences              1           4    Male  ...   \n",
       "4          1        Medical              1           5    Male  ...   \n",
       "\n",
       "   NumCompaniesWorked Over18 PercentSalaryHike  StandardHours  \\\n",
       "0                 1.0      Y                11              8   \n",
       "1                 0.0      Y                23              8   \n",
       "2                 1.0      Y                15              8   \n",
       "3                 3.0      Y                11              8   \n",
       "4                 4.0      Y                12              8   \n",
       "\n",
       "   StockOptionLevel TotalWorkingYears  TrainingTimesLastYear  YearsAtCompany  \\\n",
       "0                 0               1.0                      6               1   \n",
       "1                 1               6.0                      3               5   \n",
       "2                 3               5.0                      2               5   \n",
       "3                 3              13.0                      5               8   \n",
       "4                 2               9.0                      2               6   \n",
       "\n",
       "   YearsSinceLastPromotion  YearsWithCurrManager  \n",
       "0                        0                     0  \n",
       "1                        1                     4  \n",
       "2                        0                     3  \n",
       "3                        7                     5  \n",
       "4                        0                     4  \n",
       "\n",
       "[5 rows x 24 columns]"
      ]
     },
     "execution_count": 5,
     "metadata": {},
     "output_type": "execute_result"
    }
   ],
   "source": [
    "df3.head()"
   ]
  },
  {
   "cell_type": "markdown",
   "id": "a760fcc1",
   "metadata": {
    "papermill": {
     "duration": 0.017898,
     "end_time": "2024-07-10T15:12:26.167622",
     "exception": false,
     "start_time": "2024-07-10T15:12:26.149724",
     "status": "completed"
    },
    "tags": []
   },
   "source": [
    "<div class=\"alert alert-block alert-info\" style=\"color:#942392;font-size: 20px;\"> 📌 Merging df1 and df2 on EmployeeID.📌</div>"
   ]
  },
  {
   "cell_type": "code",
   "execution_count": 6,
   "id": "4130e9fc",
   "metadata": {
    "execution": {
     "iopub.execute_input": "2024-07-10T15:12:26.206925Z",
     "iopub.status.busy": "2024-07-10T15:12:26.205913Z",
     "iopub.status.idle": "2024-07-10T15:12:26.220693Z",
     "shell.execute_reply": "2024-07-10T15:12:26.219321Z"
    },
    "papermill": {
     "duration": 0.036801,
     "end_time": "2024-07-10T15:12:26.223609",
     "exception": false,
     "start_time": "2024-07-10T15:12:26.186808",
     "status": "completed"
    },
    "tags": []
   },
   "outputs": [],
   "source": [
    "df1=df1.merge(df2,on='EmployeeID')"
   ]
  },
  {
   "cell_type": "code",
   "execution_count": 7,
   "id": "fdb39c72",
   "metadata": {
    "execution": {
     "iopub.execute_input": "2024-07-10T15:12:26.261239Z",
     "iopub.status.busy": "2024-07-10T15:12:26.260248Z",
     "iopub.status.idle": "2024-07-10T15:12:26.275110Z",
     "shell.execute_reply": "2024-07-10T15:12:26.273812Z"
    },
    "papermill": {
     "duration": 0.03647,
     "end_time": "2024-07-10T15:12:26.277349",
     "exception": false,
     "start_time": "2024-07-10T15:12:26.240879",
     "status": "completed"
    },
    "tags": []
   },
   "outputs": [
    {
     "data": {
      "text/html": [
       "<div>\n",
       "<style scoped>\n",
       "    .dataframe tbody tr th:only-of-type {\n",
       "        vertical-align: middle;\n",
       "    }\n",
       "\n",
       "    .dataframe tbody tr th {\n",
       "        vertical-align: top;\n",
       "    }\n",
       "\n",
       "    .dataframe thead th {\n",
       "        text-align: right;\n",
       "    }\n",
       "</style>\n",
       "<table border=\"1\" class=\"dataframe\">\n",
       "  <thead>\n",
       "    <tr style=\"text-align: right;\">\n",
       "      <th></th>\n",
       "      <th>EmployeeID</th>\n",
       "      <th>JobInvolvement</th>\n",
       "      <th>PerformanceRating</th>\n",
       "      <th>EnvironmentSatisfaction</th>\n",
       "      <th>JobSatisfaction</th>\n",
       "      <th>WorkLifeBalance</th>\n",
       "    </tr>\n",
       "  </thead>\n",
       "  <tbody>\n",
       "    <tr>\n",
       "      <th>0</th>\n",
       "      <td>1</td>\n",
       "      <td>3</td>\n",
       "      <td>3</td>\n",
       "      <td>3.0</td>\n",
       "      <td>4.0</td>\n",
       "      <td>2.0</td>\n",
       "    </tr>\n",
       "    <tr>\n",
       "      <th>1</th>\n",
       "      <td>2</td>\n",
       "      <td>2</td>\n",
       "      <td>4</td>\n",
       "      <td>3.0</td>\n",
       "      <td>2.0</td>\n",
       "      <td>4.0</td>\n",
       "    </tr>\n",
       "  </tbody>\n",
       "</table>\n",
       "</div>"
      ],
      "text/plain": [
       "   EmployeeID  JobInvolvement  PerformanceRating  EnvironmentSatisfaction  \\\n",
       "0           1               3                  3                      3.0   \n",
       "1           2               2                  4                      3.0   \n",
       "\n",
       "   JobSatisfaction  WorkLifeBalance  \n",
       "0              4.0              2.0  \n",
       "1              2.0              4.0  "
      ]
     },
     "execution_count": 7,
     "metadata": {},
     "output_type": "execute_result"
    }
   ],
   "source": [
    "df1.head(2)"
   ]
  },
  {
   "cell_type": "markdown",
   "id": "b11a92d5",
   "metadata": {
    "papermill": {
     "duration": 0.016872,
     "end_time": "2024-07-10T15:12:26.311245",
     "exception": false,
     "start_time": "2024-07-10T15:12:26.294373",
     "status": "completed"
    },
    "tags": []
   },
   "source": [
    "<div class=\"alert alert-block alert-info\" style=\"color:#942392;font-size: 20px;\"> 📌 Now we will merge df1 with df3 on EmployeeID, this will be our main dataset.📌</div>"
   ]
  },
  {
   "cell_type": "code",
   "execution_count": 8,
   "id": "af49b3cf",
   "metadata": {
    "execution": {
     "iopub.execute_input": "2024-07-10T15:12:26.348122Z",
     "iopub.status.busy": "2024-07-10T15:12:26.347019Z",
     "iopub.status.idle": "2024-07-10T15:12:26.357722Z",
     "shell.execute_reply": "2024-07-10T15:12:26.356555Z"
    },
    "papermill": {
     "duration": 0.031851,
     "end_time": "2024-07-10T15:12:26.360190",
     "exception": false,
     "start_time": "2024-07-10T15:12:26.328339",
     "status": "completed"
    },
    "tags": []
   },
   "outputs": [],
   "source": [
    "main_df=df1.merge(df3,on='EmployeeID')"
   ]
  },
  {
   "cell_type": "code",
   "execution_count": 9,
   "id": "0426a516",
   "metadata": {
    "execution": {
     "iopub.execute_input": "2024-07-10T15:12:26.397468Z",
     "iopub.status.busy": "2024-07-10T15:12:26.396605Z",
     "iopub.status.idle": "2024-07-10T15:12:26.426256Z",
     "shell.execute_reply": "2024-07-10T15:12:26.425069Z"
    },
    "papermill": {
     "duration": 0.051058,
     "end_time": "2024-07-10T15:12:26.428862",
     "exception": false,
     "start_time": "2024-07-10T15:12:26.377804",
     "status": "completed"
    },
    "tags": []
   },
   "outputs": [
    {
     "data": {
      "text/html": [
       "<div>\n",
       "<style scoped>\n",
       "    .dataframe tbody tr th:only-of-type {\n",
       "        vertical-align: middle;\n",
       "    }\n",
       "\n",
       "    .dataframe tbody tr th {\n",
       "        vertical-align: top;\n",
       "    }\n",
       "\n",
       "    .dataframe thead th {\n",
       "        text-align: right;\n",
       "    }\n",
       "</style>\n",
       "<table border=\"1\" class=\"dataframe\">\n",
       "  <thead>\n",
       "    <tr style=\"text-align: right;\">\n",
       "      <th></th>\n",
       "      <th>EmployeeID</th>\n",
       "      <th>JobInvolvement</th>\n",
       "      <th>PerformanceRating</th>\n",
       "      <th>EnvironmentSatisfaction</th>\n",
       "      <th>JobSatisfaction</th>\n",
       "      <th>WorkLifeBalance</th>\n",
       "      <th>Age</th>\n",
       "      <th>Attrition</th>\n",
       "      <th>BusinessTravel</th>\n",
       "      <th>Department</th>\n",
       "      <th>...</th>\n",
       "      <th>NumCompaniesWorked</th>\n",
       "      <th>Over18</th>\n",
       "      <th>PercentSalaryHike</th>\n",
       "      <th>StandardHours</th>\n",
       "      <th>StockOptionLevel</th>\n",
       "      <th>TotalWorkingYears</th>\n",
       "      <th>TrainingTimesLastYear</th>\n",
       "      <th>YearsAtCompany</th>\n",
       "      <th>YearsSinceLastPromotion</th>\n",
       "      <th>YearsWithCurrManager</th>\n",
       "    </tr>\n",
       "  </thead>\n",
       "  <tbody>\n",
       "    <tr>\n",
       "      <th>3449</th>\n",
       "      <td>3450</td>\n",
       "      <td>3</td>\n",
       "      <td>4</td>\n",
       "      <td>4.0</td>\n",
       "      <td>2.0</td>\n",
       "      <td>2.0</td>\n",
       "      <td>37</td>\n",
       "      <td>No</td>\n",
       "      <td>Travel_Rarely</td>\n",
       "      <td>Research &amp; Development</td>\n",
       "      <td>...</td>\n",
       "      <td>3.0</td>\n",
       "      <td>Y</td>\n",
       "      <td>23</td>\n",
       "      <td>8</td>\n",
       "      <td>0</td>\n",
       "      <td>8.0</td>\n",
       "      <td>6</td>\n",
       "      <td>4</td>\n",
       "      <td>0</td>\n",
       "      <td>1</td>\n",
       "    </tr>\n",
       "    <tr>\n",
       "      <th>2461</th>\n",
       "      <td>2462</td>\n",
       "      <td>3</td>\n",
       "      <td>3</td>\n",
       "      <td>2.0</td>\n",
       "      <td>2.0</td>\n",
       "      <td>3.0</td>\n",
       "      <td>29</td>\n",
       "      <td>Yes</td>\n",
       "      <td>Travel_Rarely</td>\n",
       "      <td>Sales</td>\n",
       "      <td>...</td>\n",
       "      <td>1.0</td>\n",
       "      <td>Y</td>\n",
       "      <td>13</td>\n",
       "      <td>8</td>\n",
       "      <td>0</td>\n",
       "      <td>2.0</td>\n",
       "      <td>3</td>\n",
       "      <td>2</td>\n",
       "      <td>2</td>\n",
       "      <td>2</td>\n",
       "    </tr>\n",
       "  </tbody>\n",
       "</table>\n",
       "<p>2 rows × 29 columns</p>\n",
       "</div>"
      ],
      "text/plain": [
       "      EmployeeID  JobInvolvement  PerformanceRating  EnvironmentSatisfaction  \\\n",
       "3449        3450               3                  4                      4.0   \n",
       "2461        2462               3                  3                      2.0   \n",
       "\n",
       "      JobSatisfaction  WorkLifeBalance  Age Attrition BusinessTravel  \\\n",
       "3449              2.0              2.0   37        No  Travel_Rarely   \n",
       "2461              2.0              3.0   29       Yes  Travel_Rarely   \n",
       "\n",
       "                  Department  ...  NumCompaniesWorked  Over18  \\\n",
       "3449  Research & Development  ...                 3.0       Y   \n",
       "2461                   Sales  ...                 1.0       Y   \n",
       "\n",
       "     PercentSalaryHike  StandardHours StockOptionLevel  TotalWorkingYears  \\\n",
       "3449                23              8                0                8.0   \n",
       "2461                13              8                0                2.0   \n",
       "\n",
       "     TrainingTimesLastYear YearsAtCompany  YearsSinceLastPromotion  \\\n",
       "3449                     6              4                        0   \n",
       "2461                     3              2                        2   \n",
       "\n",
       "      YearsWithCurrManager  \n",
       "3449                     1  \n",
       "2461                     2  \n",
       "\n",
       "[2 rows x 29 columns]"
      ]
     },
     "execution_count": 9,
     "metadata": {},
     "output_type": "execute_result"
    }
   ],
   "source": [
    "main_df.sample(2)"
   ]
  },
  {
   "cell_type": "code",
   "execution_count": 10,
   "id": "25066064",
   "metadata": {
    "execution": {
     "iopub.execute_input": "2024-07-10T15:12:26.467961Z",
     "iopub.status.busy": "2024-07-10T15:12:26.467604Z",
     "iopub.status.idle": "2024-07-10T15:12:26.475777Z",
     "shell.execute_reply": "2024-07-10T15:12:26.474479Z"
    },
    "papermill": {
     "duration": 0.030901,
     "end_time": "2024-07-10T15:12:26.478573",
     "exception": false,
     "start_time": "2024-07-10T15:12:26.447672",
     "status": "completed"
    },
    "tags": []
   },
   "outputs": [
    {
     "data": {
      "text/plain": [
       "Index(['EmployeeID', 'JobInvolvement', 'PerformanceRating',\n",
       "       'EnvironmentSatisfaction', 'JobSatisfaction', 'WorkLifeBalance', 'Age',\n",
       "       'Attrition', 'BusinessTravel', 'Department', 'DistanceFromHome',\n",
       "       'Education', 'EducationField', 'EmployeeCount', 'Gender', 'JobLevel',\n",
       "       'JobRole', 'MaritalStatus', 'MonthlyIncome', 'NumCompaniesWorked',\n",
       "       'Over18', 'PercentSalaryHike', 'StandardHours', 'StockOptionLevel',\n",
       "       'TotalWorkingYears', 'TrainingTimesLastYear', 'YearsAtCompany',\n",
       "       'YearsSinceLastPromotion', 'YearsWithCurrManager'],\n",
       "      dtype='object')"
      ]
     },
     "execution_count": 10,
     "metadata": {},
     "output_type": "execute_result"
    }
   ],
   "source": [
    "main_df.columns"
   ]
  },
  {
   "cell_type": "markdown",
   "id": "a3984670",
   "metadata": {
    "papermill": {
     "duration": 0.017891,
     "end_time": "2024-07-10T15:12:26.514959",
     "exception": false,
     "start_time": "2024-07-10T15:12:26.497068",
     "status": "completed"
    },
    "tags": []
   },
   "source": [
    "<div class=\"alert alert-block alert-info\" style=\"color:#942392;font-size: 20px;\"> 📌 I did EDA on this dataset and found that EmployeeID, EmployeeCount, Over18, StandardHours these are not useful for our model building part.📌</div>"
   ]
  },
  {
   "cell_type": "code",
   "execution_count": 11,
   "id": "3f75c484",
   "metadata": {
    "execution": {
     "iopub.execute_input": "2024-07-10T15:12:26.553284Z",
     "iopub.status.busy": "2024-07-10T15:12:26.552835Z",
     "iopub.status.idle": "2024-07-10T15:12:26.561231Z",
     "shell.execute_reply": "2024-07-10T15:12:26.560035Z"
    },
    "papermill": {
     "duration": 0.031207,
     "end_time": "2024-07-10T15:12:26.564258",
     "exception": false,
     "start_time": "2024-07-10T15:12:26.533051",
     "status": "completed"
    },
    "tags": []
   },
   "outputs": [],
   "source": [
    "main_df.drop(columns=['EmployeeID','EmployeeCount','Over18','StandardHours'],inplace=True,axis=1)"
   ]
  },
  {
   "cell_type": "code",
   "execution_count": 12,
   "id": "a8b15287",
   "metadata": {
    "execution": {
     "iopub.execute_input": "2024-07-10T15:12:26.602650Z",
     "iopub.status.busy": "2024-07-10T15:12:26.602219Z",
     "iopub.status.idle": "2024-07-10T15:12:26.628906Z",
     "shell.execute_reply": "2024-07-10T15:12:26.627423Z"
    },
    "papermill": {
     "duration": 0.049178,
     "end_time": "2024-07-10T15:12:26.631943",
     "exception": false,
     "start_time": "2024-07-10T15:12:26.582765",
     "status": "completed"
    },
    "tags": []
   },
   "outputs": [
    {
     "name": "stdout",
     "output_type": "stream",
     "text": [
      "<class 'pandas.core.frame.DataFrame'>\n",
      "RangeIndex: 4410 entries, 0 to 4409\n",
      "Data columns (total 25 columns):\n",
      " #   Column                   Non-Null Count  Dtype  \n",
      "---  ------                   --------------  -----  \n",
      " 0   JobInvolvement           4410 non-null   int64  \n",
      " 1   PerformanceRating        4410 non-null   int64  \n",
      " 2   EnvironmentSatisfaction  4385 non-null   float64\n",
      " 3   JobSatisfaction          4390 non-null   float64\n",
      " 4   WorkLifeBalance          4372 non-null   float64\n",
      " 5   Age                      4410 non-null   int64  \n",
      " 6   Attrition                4410 non-null   object \n",
      " 7   BusinessTravel           4410 non-null   object \n",
      " 8   Department               4410 non-null   object \n",
      " 9   DistanceFromHome         4410 non-null   int64  \n",
      " 10  Education                4410 non-null   int64  \n",
      " 11  EducationField           4410 non-null   object \n",
      " 12  Gender                   4410 non-null   object \n",
      " 13  JobLevel                 4410 non-null   int64  \n",
      " 14  JobRole                  4410 non-null   object \n",
      " 15  MaritalStatus            4410 non-null   object \n",
      " 16  MonthlyIncome            4410 non-null   int64  \n",
      " 17  NumCompaniesWorked       4391 non-null   float64\n",
      " 18  PercentSalaryHike        4410 non-null   int64  \n",
      " 19  StockOptionLevel         4410 non-null   int64  \n",
      " 20  TotalWorkingYears        4401 non-null   float64\n",
      " 21  TrainingTimesLastYear    4410 non-null   int64  \n",
      " 22  YearsAtCompany           4410 non-null   int64  \n",
      " 23  YearsSinceLastPromotion  4410 non-null   int64  \n",
      " 24  YearsWithCurrManager     4410 non-null   int64  \n",
      "dtypes: float64(5), int64(13), object(7)\n",
      "memory usage: 861.5+ KB\n"
     ]
    }
   ],
   "source": [
    "main_df.info()"
   ]
  },
  {
   "cell_type": "code",
   "execution_count": 13,
   "id": "09bf56d1",
   "metadata": {
    "execution": {
     "iopub.execute_input": "2024-07-10T15:12:26.670725Z",
     "iopub.status.busy": "2024-07-10T15:12:26.670313Z",
     "iopub.status.idle": "2024-07-10T15:12:26.684745Z",
     "shell.execute_reply": "2024-07-10T15:12:26.683761Z"
    },
    "papermill": {
     "duration": 0.036934,
     "end_time": "2024-07-10T15:12:26.687437",
     "exception": false,
     "start_time": "2024-07-10T15:12:26.650503",
     "status": "completed"
    },
    "tags": []
   },
   "outputs": [
    {
     "data": {
      "text/plain": [
       "JobInvolvement              0\n",
       "PerformanceRating           0\n",
       "EnvironmentSatisfaction    25\n",
       "JobSatisfaction            20\n",
       "WorkLifeBalance            38\n",
       "Age                         0\n",
       "Attrition                   0\n",
       "BusinessTravel              0\n",
       "Department                  0\n",
       "DistanceFromHome            0\n",
       "Education                   0\n",
       "EducationField              0\n",
       "Gender                      0\n",
       "JobLevel                    0\n",
       "JobRole                     0\n",
       "MaritalStatus               0\n",
       "MonthlyIncome               0\n",
       "NumCompaniesWorked         19\n",
       "PercentSalaryHike           0\n",
       "StockOptionLevel            0\n",
       "TotalWorkingYears           9\n",
       "TrainingTimesLastYear       0\n",
       "YearsAtCompany              0\n",
       "YearsSinceLastPromotion     0\n",
       "YearsWithCurrManager        0\n",
       "dtype: int64"
      ]
     },
     "execution_count": 13,
     "metadata": {},
     "output_type": "execute_result"
    }
   ],
   "source": [
    "main_df.isnull().sum()"
   ]
  },
  {
   "cell_type": "markdown",
   "id": "684aa01c",
   "metadata": {
    "papermill": {
     "duration": 0.018033,
     "end_time": "2024-07-10T15:12:26.725004",
     "exception": false,
     "start_time": "2024-07-10T15:12:26.706971",
     "status": "completed"
    },
    "tags": []
   },
   "source": [
    "<div class=\"alert alert-block alert-info\" style=\"color:#942392;font-size: 18px;\"> 📌 There are some missing values in the EnvironmentSatisfaction, JobSatisfaction, WorkLifeBalance and NumCompaniesWorked columns. We will impute these in our Preprocessor Pipeline📌</div>"
   ]
  },
  {
   "cell_type": "markdown",
   "id": "a944092a",
   "metadata": {
    "papermill": {
     "duration": 0.017798,
     "end_time": "2024-07-10T15:12:26.761015",
     "exception": false,
     "start_time": "2024-07-10T15:12:26.743217",
     "status": "completed"
    },
    "tags": []
   },
   "source": [
    "# Importing Nescessery Libraries for Preprocessing"
   ]
  },
  {
   "cell_type": "code",
   "execution_count": 14,
   "id": "fce6e3b5",
   "metadata": {
    "execution": {
     "iopub.execute_input": "2024-07-10T15:12:26.799339Z",
     "iopub.status.busy": "2024-07-10T15:12:26.798878Z",
     "iopub.status.idle": "2024-07-10T15:12:28.319734Z",
     "shell.execute_reply": "2024-07-10T15:12:28.318555Z"
    },
    "papermill": {
     "duration": 1.543649,
     "end_time": "2024-07-10T15:12:28.322869",
     "exception": false,
     "start_time": "2024-07-10T15:12:26.779220",
     "status": "completed"
    },
    "tags": []
   },
   "outputs": [],
   "source": [
    "from sklearn.compose import ColumnTransformer\n",
    "from sklearn.preprocessing import OneHotEncoder, LabelEncoder, StandardScaler, MinMaxScaler, RobustScaler\n",
    "from sklearn.model_selection import train_test_split\n",
    "from sklearn.metrics import accuracy_score, precision_score,recall_score, f1_score,confusion_matrix,classification_report\n",
    "from sklearn.pipeline import Pipeline\n",
    "from sklearn.impute import SimpleImputer"
   ]
  },
  {
   "cell_type": "markdown",
   "id": "a061b70f",
   "metadata": {
    "papermill": {
     "duration": 0.018063,
     "end_time": "2024-07-10T15:12:28.359633",
     "exception": false,
     "start_time": "2024-07-10T15:12:28.341570",
     "status": "completed"
    },
    "tags": []
   },
   "source": [
    "# Encoding the Target/Dependent Column"
   ]
  },
  {
   "cell_type": "code",
   "execution_count": 15,
   "id": "edd67d2d",
   "metadata": {
    "execution": {
     "iopub.execute_input": "2024-07-10T15:12:28.398428Z",
     "iopub.status.busy": "2024-07-10T15:12:28.397957Z",
     "iopub.status.idle": "2024-07-10T15:12:28.406744Z",
     "shell.execute_reply": "2024-07-10T15:12:28.405258Z"
    },
    "papermill": {
     "duration": 0.031579,
     "end_time": "2024-07-10T15:12:28.409492",
     "exception": false,
     "start_time": "2024-07-10T15:12:28.377913",
     "status": "completed"
    },
    "tags": []
   },
   "outputs": [],
   "source": [
    "le=LabelEncoder()\n",
    "main_df['Attrition']=le.fit_transform(main_df['Attrition'])"
   ]
  },
  {
   "cell_type": "markdown",
   "id": "660ae2fa",
   "metadata": {
    "papermill": {
     "duration": 0.017893,
     "end_time": "2024-07-10T15:12:28.445559",
     "exception": false,
     "start_time": "2024-07-10T15:12:28.427666",
     "status": "completed"
    },
    "tags": []
   },
   "source": [
    "# Separating Dependent and Independent Variables"
   ]
  },
  {
   "cell_type": "code",
   "execution_count": 16,
   "id": "57e8d73c",
   "metadata": {
    "execution": {
     "iopub.execute_input": "2024-07-10T15:12:28.550611Z",
     "iopub.status.busy": "2024-07-10T15:12:28.550185Z",
     "iopub.status.idle": "2024-07-10T15:12:28.558420Z",
     "shell.execute_reply": "2024-07-10T15:12:28.557359Z"
    },
    "papermill": {
     "duration": 0.030831,
     "end_time": "2024-07-10T15:12:28.561240",
     "exception": false,
     "start_time": "2024-07-10T15:12:28.530409",
     "status": "completed"
    },
    "tags": []
   },
   "outputs": [],
   "source": [
    "y=main_df['Attrition']\n",
    "X=main_df.drop(columns=['Attrition'])"
   ]
  },
  {
   "cell_type": "code",
   "execution_count": 17,
   "id": "8af8157d",
   "metadata": {
    "execution": {
     "iopub.execute_input": "2024-07-10T15:12:28.601642Z",
     "iopub.status.busy": "2024-07-10T15:12:28.600538Z",
     "iopub.status.idle": "2024-07-10T15:12:28.610780Z",
     "shell.execute_reply": "2024-07-10T15:12:28.609589Z"
    },
    "papermill": {
     "duration": 0.033245,
     "end_time": "2024-07-10T15:12:28.613622",
     "exception": false,
     "start_time": "2024-07-10T15:12:28.580377",
     "status": "completed"
    },
    "tags": []
   },
   "outputs": [],
   "source": [
    "new_df=main_df.copy()\n",
    "main_df.drop(columns=['Attrition'],inplace=True)"
   ]
  },
  {
   "cell_type": "code",
   "execution_count": 18,
   "id": "5776813a",
   "metadata": {
    "execution": {
     "iopub.execute_input": "2024-07-10T15:12:28.654231Z",
     "iopub.status.busy": "2024-07-10T15:12:28.653454Z",
     "iopub.status.idle": "2024-07-10T15:12:28.661222Z",
     "shell.execute_reply": "2024-07-10T15:12:28.659868Z"
    },
    "papermill": {
     "duration": 0.03054,
     "end_time": "2024-07-10T15:12:28.663726",
     "exception": false,
     "start_time": "2024-07-10T15:12:28.633186",
     "status": "completed"
    },
    "tags": []
   },
   "outputs": [
    {
     "data": {
      "text/plain": [
       "(4410, 24)"
      ]
     },
     "execution_count": 18,
     "metadata": {},
     "output_type": "execute_result"
    }
   ],
   "source": [
    "main_df.shape"
   ]
  },
  {
   "cell_type": "code",
   "execution_count": 19,
   "id": "c74e2333",
   "metadata": {
    "execution": {
     "iopub.execute_input": "2024-07-10T15:12:28.703445Z",
     "iopub.status.busy": "2024-07-10T15:12:28.702606Z",
     "iopub.status.idle": "2024-07-10T15:12:28.709086Z",
     "shell.execute_reply": "2024-07-10T15:12:28.707751Z"
    },
    "papermill": {
     "duration": 0.029224,
     "end_time": "2024-07-10T15:12:28.711737",
     "exception": false,
     "start_time": "2024-07-10T15:12:28.682513",
     "status": "completed"
    },
    "tags": []
   },
   "outputs": [
    {
     "name": "stdout",
     "output_type": "stream",
     "text": [
      "shape of x is: (4410, 24)\n",
      "shape of y is: (4410,)\n"
     ]
    }
   ],
   "source": [
    "print('shape of x is:',X.shape)\n",
    "print('shape of y is:',y.shape)"
   ]
  },
  {
   "cell_type": "markdown",
   "id": "5c3c02d1",
   "metadata": {
    "papermill": {
     "duration": 0.018533,
     "end_time": "2024-07-10T15:12:28.748939",
     "exception": false,
     "start_time": "2024-07-10T15:12:28.730406",
     "status": "completed"
    },
    "tags": []
   },
   "source": [
    "<div class=\"alert alert-block alert-info\" style=\"color:#942392;font-size: 20px;\"> 📌 Separating Numerical and Categorical Columns for Preprocessing.📌</div>"
   ]
  },
  {
   "cell_type": "code",
   "execution_count": 20,
   "id": "35997746",
   "metadata": {
    "execution": {
     "iopub.execute_input": "2024-07-10T15:12:28.788812Z",
     "iopub.status.busy": "2024-07-10T15:12:28.787794Z",
     "iopub.status.idle": "2024-07-10T15:12:28.796870Z",
     "shell.execute_reply": "2024-07-10T15:12:28.795582Z"
    },
    "papermill": {
     "duration": 0.032156,
     "end_time": "2024-07-10T15:12:28.799830",
     "exception": false,
     "start_time": "2024-07-10T15:12:28.767674",
     "status": "completed"
    },
    "tags": []
   },
   "outputs": [
    {
     "data": {
      "text/plain": [
       "['BusinessTravel',\n",
       " 'Department',\n",
       " 'EducationField',\n",
       " 'Gender',\n",
       " 'JobRole',\n",
       " 'MaritalStatus']"
      ]
     },
     "execution_count": 20,
     "metadata": {},
     "output_type": "execute_result"
    }
   ],
   "source": [
    "categorical_columns= [col for col in main_df.select_dtypes('object').columns]\n",
    "categorical_columns"
   ]
  },
  {
   "cell_type": "code",
   "execution_count": 21,
   "id": "6bf8e08e",
   "metadata": {
    "execution": {
     "iopub.execute_input": "2024-07-10T15:12:28.839695Z",
     "iopub.status.busy": "2024-07-10T15:12:28.838827Z",
     "iopub.status.idle": "2024-07-10T15:12:28.849713Z",
     "shell.execute_reply": "2024-07-10T15:12:28.848480Z"
    },
    "papermill": {
     "duration": 0.033678,
     "end_time": "2024-07-10T15:12:28.852318",
     "exception": false,
     "start_time": "2024-07-10T15:12:28.818640",
     "status": "completed"
    },
    "tags": []
   },
   "outputs": [
    {
     "data": {
      "text/plain": [
       "['JobInvolvement',\n",
       " 'PerformanceRating',\n",
       " 'EnvironmentSatisfaction',\n",
       " 'JobSatisfaction',\n",
       " 'WorkLifeBalance',\n",
       " 'Age',\n",
       " 'DistanceFromHome',\n",
       " 'Education',\n",
       " 'JobLevel',\n",
       " 'MonthlyIncome',\n",
       " 'NumCompaniesWorked',\n",
       " 'PercentSalaryHike',\n",
       " 'StockOptionLevel',\n",
       " 'TotalWorkingYears',\n",
       " 'TrainingTimesLastYear',\n",
       " 'YearsAtCompany',\n",
       " 'YearsSinceLastPromotion',\n",
       " 'YearsWithCurrManager']"
      ]
     },
     "execution_count": 21,
     "metadata": {},
     "output_type": "execute_result"
    }
   ],
   "source": [
    "numerical_columns= [col for col in main_df.select_dtypes(['int64','float64']).columns]\n",
    "numerical_columns"
   ]
  },
  {
   "cell_type": "markdown",
   "id": "2d47681e",
   "metadata": {
    "papermill": {
     "duration": 0.01943,
     "end_time": "2024-07-10T15:12:28.891148",
     "exception": false,
     "start_time": "2024-07-10T15:12:28.871718",
     "status": "completed"
    },
    "tags": []
   },
   "source": [
    "# Creating Transformation and Pipeline"
   ]
  },
  {
   "cell_type": "code",
   "execution_count": 22,
   "id": "c1f9da68",
   "metadata": {
    "execution": {
     "iopub.execute_input": "2024-07-10T15:12:28.932377Z",
     "iopub.status.busy": "2024-07-10T15:12:28.931972Z",
     "iopub.status.idle": "2024-07-10T15:12:28.938883Z",
     "shell.execute_reply": "2024-07-10T15:12:28.937577Z"
    },
    "papermill": {
     "duration": 0.030589,
     "end_time": "2024-07-10T15:12:28.941619",
     "exception": false,
     "start_time": "2024-07-10T15:12:28.911030",
     "status": "completed"
    },
    "tags": []
   },
   "outputs": [],
   "source": [
    "numeric_transformer=Pipeline(steps=[\n",
    "    ('imputer',SimpleImputer(strategy='most_frequent')),\n",
    "    ('scaler',StandardScaler())\n",
    "])\n",
    "\n",
    "categorical_transformer=Pipeline(steps=[\n",
    "    ('encoder',OneHotEncoder(drop='first',sparse_output=False)),\n",
    "])"
   ]
  },
  {
   "cell_type": "code",
   "execution_count": 23,
   "id": "d9e62230",
   "metadata": {
    "execution": {
     "iopub.execute_input": "2024-07-10T15:12:28.981831Z",
     "iopub.status.busy": "2024-07-10T15:12:28.980839Z",
     "iopub.status.idle": "2024-07-10T15:12:28.987312Z",
     "shell.execute_reply": "2024-07-10T15:12:28.986159Z"
    },
    "papermill": {
     "duration": 0.029156,
     "end_time": "2024-07-10T15:12:28.989763",
     "exception": false,
     "start_time": "2024-07-10T15:12:28.960607",
     "status": "completed"
    },
    "tags": []
   },
   "outputs": [],
   "source": [
    "preprocessor = ColumnTransformer(\n",
    "    transformers=[\n",
    "        (\"num\", numeric_transformer, numerical_columns),\n",
    "        (\"cat\", categorical_transformer, categorical_columns),\n",
    "    ]\n",
    ")"
   ]
  },
  {
   "cell_type": "code",
   "execution_count": 24,
   "id": "e2696f71",
   "metadata": {
    "execution": {
     "iopub.execute_input": "2024-07-10T15:12:29.030074Z",
     "iopub.status.busy": "2024-07-10T15:12:29.029654Z",
     "iopub.status.idle": "2024-07-10T15:12:29.040966Z",
     "shell.execute_reply": "2024-07-10T15:12:29.039686Z"
    },
    "papermill": {
     "duration": 0.034916,
     "end_time": "2024-07-10T15:12:29.043762",
     "exception": false,
     "start_time": "2024-07-10T15:12:29.008846",
     "status": "completed"
    },
    "tags": []
   },
   "outputs": [],
   "source": [
    "X_train,X_test,y_train,y_test=train_test_split(X,y,test_size=0.2,random_state=2024)"
   ]
  },
  {
   "cell_type": "markdown",
   "id": "7bddf68a",
   "metadata": {
    "papermill": {
     "duration": 0.018714,
     "end_time": "2024-07-10T15:12:29.081337",
     "exception": false,
     "start_time": "2024-07-10T15:12:29.062623",
     "status": "completed"
    },
    "tags": []
   },
   "source": [
    "# Importing Nescessery Libraries for Model Building"
   ]
  },
  {
   "cell_type": "code",
   "execution_count": 25,
   "id": "063d3aa8",
   "metadata": {
    "execution": {
     "iopub.execute_input": "2024-07-10T15:12:29.122078Z",
     "iopub.status.busy": "2024-07-10T15:12:29.121496Z",
     "iopub.status.idle": "2024-07-10T15:12:29.424583Z",
     "shell.execute_reply": "2024-07-10T15:12:29.423421Z"
    },
    "papermill": {
     "duration": 0.326847,
     "end_time": "2024-07-10T15:12:29.427513",
     "exception": false,
     "start_time": "2024-07-10T15:12:29.100666",
     "status": "completed"
    },
    "tags": []
   },
   "outputs": [],
   "source": [
    "from sklearn.linear_model import LogisticRegression\n",
    "from sklearn.svm import SVC\n",
    "from sklearn.tree import DecisionTreeClassifier\n",
    "from sklearn. ensemble import ExtraTreesClassifier, RandomForestClassifier,AdaBoostClassifier\n",
    "from xgboost import XGBClassifier\n",
    "from sklearn.neighbors import KNeighborsClassifier"
   ]
  },
  {
   "cell_type": "code",
   "execution_count": 26,
   "id": "ce0e4570",
   "metadata": {
    "execution": {
     "iopub.execute_input": "2024-07-10T15:12:29.466834Z",
     "iopub.status.busy": "2024-07-10T15:12:29.466376Z",
     "iopub.status.idle": "2024-07-10T15:12:29.472813Z",
     "shell.execute_reply": "2024-07-10T15:12:29.471662Z"
    },
    "papermill": {
     "duration": 0.028961,
     "end_time": "2024-07-10T15:12:29.475150",
     "exception": false,
     "start_time": "2024-07-10T15:12:29.446189",
     "status": "completed"
    },
    "tags": []
   },
   "outputs": [],
   "source": [
    "pipe=Pipeline(steps=[\n",
    "    ('preprocessing',preprocessor),\n",
    "    ('ETC',ExtraTreesClassifier())\n",
    "])"
   ]
  },
  {
   "cell_type": "code",
   "execution_count": 27,
   "id": "a4b417e3",
   "metadata": {
    "execution": {
     "iopub.execute_input": "2024-07-10T15:12:29.514700Z",
     "iopub.status.busy": "2024-07-10T15:12:29.514257Z",
     "iopub.status.idle": "2024-07-10T15:12:30.149351Z",
     "shell.execute_reply": "2024-07-10T15:12:30.147512Z"
    },
    "papermill": {
     "duration": 0.660697,
     "end_time": "2024-07-10T15:12:30.154619",
     "exception": false,
     "start_time": "2024-07-10T15:12:29.493922",
     "status": "completed"
    },
    "tags": []
   },
   "outputs": [
    {
     "data": {
      "text/html": [
       "<style>#sk-container-id-1 {color: black;background-color: white;}#sk-container-id-1 pre{padding: 0;}#sk-container-id-1 div.sk-toggleable {background-color: white;}#sk-container-id-1 label.sk-toggleable__label {cursor: pointer;display: block;width: 100%;margin-bottom: 0;padding: 0.3em;box-sizing: border-box;text-align: center;}#sk-container-id-1 label.sk-toggleable__label-arrow:before {content: \"▸\";float: left;margin-right: 0.25em;color: #696969;}#sk-container-id-1 label.sk-toggleable__label-arrow:hover:before {color: black;}#sk-container-id-1 div.sk-estimator:hover label.sk-toggleable__label-arrow:before {color: black;}#sk-container-id-1 div.sk-toggleable__content {max-height: 0;max-width: 0;overflow: hidden;text-align: left;background-color: #f0f8ff;}#sk-container-id-1 div.sk-toggleable__content pre {margin: 0.2em;color: black;border-radius: 0.25em;background-color: #f0f8ff;}#sk-container-id-1 input.sk-toggleable__control:checked~div.sk-toggleable__content {max-height: 200px;max-width: 100%;overflow: auto;}#sk-container-id-1 input.sk-toggleable__control:checked~label.sk-toggleable__label-arrow:before {content: \"▾\";}#sk-container-id-1 div.sk-estimator input.sk-toggleable__control:checked~label.sk-toggleable__label {background-color: #d4ebff;}#sk-container-id-1 div.sk-label input.sk-toggleable__control:checked~label.sk-toggleable__label {background-color: #d4ebff;}#sk-container-id-1 input.sk-hidden--visually {border: 0;clip: rect(1px 1px 1px 1px);clip: rect(1px, 1px, 1px, 1px);height: 1px;margin: -1px;overflow: hidden;padding: 0;position: absolute;width: 1px;}#sk-container-id-1 div.sk-estimator {font-family: monospace;background-color: #f0f8ff;border: 1px dotted black;border-radius: 0.25em;box-sizing: border-box;margin-bottom: 0.5em;}#sk-container-id-1 div.sk-estimator:hover {background-color: #d4ebff;}#sk-container-id-1 div.sk-parallel-item::after {content: \"\";width: 100%;border-bottom: 1px solid gray;flex-grow: 1;}#sk-container-id-1 div.sk-label:hover label.sk-toggleable__label {background-color: #d4ebff;}#sk-container-id-1 div.sk-serial::before {content: \"\";position: absolute;border-left: 1px solid gray;box-sizing: border-box;top: 0;bottom: 0;left: 50%;z-index: 0;}#sk-container-id-1 div.sk-serial {display: flex;flex-direction: column;align-items: center;background-color: white;padding-right: 0.2em;padding-left: 0.2em;position: relative;}#sk-container-id-1 div.sk-item {position: relative;z-index: 1;}#sk-container-id-1 div.sk-parallel {display: flex;align-items: stretch;justify-content: center;background-color: white;position: relative;}#sk-container-id-1 div.sk-item::before, #sk-container-id-1 div.sk-parallel-item::before {content: \"\";position: absolute;border-left: 1px solid gray;box-sizing: border-box;top: 0;bottom: 0;left: 50%;z-index: -1;}#sk-container-id-1 div.sk-parallel-item {display: flex;flex-direction: column;z-index: 1;position: relative;background-color: white;}#sk-container-id-1 div.sk-parallel-item:first-child::after {align-self: flex-end;width: 50%;}#sk-container-id-1 div.sk-parallel-item:last-child::after {align-self: flex-start;width: 50%;}#sk-container-id-1 div.sk-parallel-item:only-child::after {width: 0;}#sk-container-id-1 div.sk-dashed-wrapped {border: 1px dashed gray;margin: 0 0.4em 0.5em 0.4em;box-sizing: border-box;padding-bottom: 0.4em;background-color: white;}#sk-container-id-1 div.sk-label label {font-family: monospace;font-weight: bold;display: inline-block;line-height: 1.2em;}#sk-container-id-1 div.sk-label-container {text-align: center;}#sk-container-id-1 div.sk-container {/* jupyter's `normalize.less` sets `[hidden] { display: none; }` but bootstrap.min.css set `[hidden] { display: none !important; }` so we also need the `!important` here to be able to override the default hidden behavior on the sphinx rendered scikit-learn.org. See: https://github.com/scikit-learn/scikit-learn/issues/21755 */display: inline-block !important;position: relative;}#sk-container-id-1 div.sk-text-repr-fallback {display: none;}</style><div id=\"sk-container-id-1\" class=\"sk-top-container\"><div class=\"sk-text-repr-fallback\"><pre>Pipeline(steps=[(&#x27;preprocessing&#x27;,\n",
       "                 ColumnTransformer(transformers=[(&#x27;num&#x27;,\n",
       "                                                  Pipeline(steps=[(&#x27;imputer&#x27;,\n",
       "                                                                   SimpleImputer(strategy=&#x27;most_frequent&#x27;)),\n",
       "                                                                  (&#x27;scaler&#x27;,\n",
       "                                                                   StandardScaler())]),\n",
       "                                                  [&#x27;JobInvolvement&#x27;,\n",
       "                                                   &#x27;PerformanceRating&#x27;,\n",
       "                                                   &#x27;EnvironmentSatisfaction&#x27;,\n",
       "                                                   &#x27;JobSatisfaction&#x27;,\n",
       "                                                   &#x27;WorkLifeBalance&#x27;, &#x27;Age&#x27;,\n",
       "                                                   &#x27;DistanceFromHome&#x27;,\n",
       "                                                   &#x27;Education&#x27;, &#x27;JobLevel&#x27;,\n",
       "                                                   &#x27;MonthlyIncome&#x27;,\n",
       "                                                   &#x27;NumCompaniesWor...\n",
       "                                                   &#x27;PercentSalaryHike&#x27;,\n",
       "                                                   &#x27;StockOptionLevel&#x27;,\n",
       "                                                   &#x27;TotalWorkingYears&#x27;,\n",
       "                                                   &#x27;TrainingTimesLastYear&#x27;,\n",
       "                                                   &#x27;YearsAtCompany&#x27;,\n",
       "                                                   &#x27;YearsSinceLastPromotion&#x27;,\n",
       "                                                   &#x27;YearsWithCurrManager&#x27;]),\n",
       "                                                 (&#x27;cat&#x27;,\n",
       "                                                  Pipeline(steps=[(&#x27;encoder&#x27;,\n",
       "                                                                   OneHotEncoder(drop=&#x27;first&#x27;,\n",
       "                                                                                 sparse_output=False))]),\n",
       "                                                  [&#x27;BusinessTravel&#x27;,\n",
       "                                                   &#x27;Department&#x27;,\n",
       "                                                   &#x27;EducationField&#x27;, &#x27;Gender&#x27;,\n",
       "                                                   &#x27;JobRole&#x27;,\n",
       "                                                   &#x27;MaritalStatus&#x27;])])),\n",
       "                (&#x27;ETC&#x27;, ExtraTreesClassifier())])</pre><b>In a Jupyter environment, please rerun this cell to show the HTML representation or trust the notebook. <br />On GitHub, the HTML representation is unable to render, please try loading this page with nbviewer.org.</b></div><div class=\"sk-container\" hidden><div class=\"sk-item sk-dashed-wrapped\"><div class=\"sk-label-container\"><div class=\"sk-label sk-toggleable\"><input class=\"sk-toggleable__control sk-hidden--visually\" id=\"sk-estimator-id-1\" type=\"checkbox\" ><label for=\"sk-estimator-id-1\" class=\"sk-toggleable__label sk-toggleable__label-arrow\">Pipeline</label><div class=\"sk-toggleable__content\"><pre>Pipeline(steps=[(&#x27;preprocessing&#x27;,\n",
       "                 ColumnTransformer(transformers=[(&#x27;num&#x27;,\n",
       "                                                  Pipeline(steps=[(&#x27;imputer&#x27;,\n",
       "                                                                   SimpleImputer(strategy=&#x27;most_frequent&#x27;)),\n",
       "                                                                  (&#x27;scaler&#x27;,\n",
       "                                                                   StandardScaler())]),\n",
       "                                                  [&#x27;JobInvolvement&#x27;,\n",
       "                                                   &#x27;PerformanceRating&#x27;,\n",
       "                                                   &#x27;EnvironmentSatisfaction&#x27;,\n",
       "                                                   &#x27;JobSatisfaction&#x27;,\n",
       "                                                   &#x27;WorkLifeBalance&#x27;, &#x27;Age&#x27;,\n",
       "                                                   &#x27;DistanceFromHome&#x27;,\n",
       "                                                   &#x27;Education&#x27;, &#x27;JobLevel&#x27;,\n",
       "                                                   &#x27;MonthlyIncome&#x27;,\n",
       "                                                   &#x27;NumCompaniesWor...\n",
       "                                                   &#x27;PercentSalaryHike&#x27;,\n",
       "                                                   &#x27;StockOptionLevel&#x27;,\n",
       "                                                   &#x27;TotalWorkingYears&#x27;,\n",
       "                                                   &#x27;TrainingTimesLastYear&#x27;,\n",
       "                                                   &#x27;YearsAtCompany&#x27;,\n",
       "                                                   &#x27;YearsSinceLastPromotion&#x27;,\n",
       "                                                   &#x27;YearsWithCurrManager&#x27;]),\n",
       "                                                 (&#x27;cat&#x27;,\n",
       "                                                  Pipeline(steps=[(&#x27;encoder&#x27;,\n",
       "                                                                   OneHotEncoder(drop=&#x27;first&#x27;,\n",
       "                                                                                 sparse_output=False))]),\n",
       "                                                  [&#x27;BusinessTravel&#x27;,\n",
       "                                                   &#x27;Department&#x27;,\n",
       "                                                   &#x27;EducationField&#x27;, &#x27;Gender&#x27;,\n",
       "                                                   &#x27;JobRole&#x27;,\n",
       "                                                   &#x27;MaritalStatus&#x27;])])),\n",
       "                (&#x27;ETC&#x27;, ExtraTreesClassifier())])</pre></div></div></div><div class=\"sk-serial\"><div class=\"sk-item sk-dashed-wrapped\"><div class=\"sk-label-container\"><div class=\"sk-label sk-toggleable\"><input class=\"sk-toggleable__control sk-hidden--visually\" id=\"sk-estimator-id-2\" type=\"checkbox\" ><label for=\"sk-estimator-id-2\" class=\"sk-toggleable__label sk-toggleable__label-arrow\">preprocessing: ColumnTransformer</label><div class=\"sk-toggleable__content\"><pre>ColumnTransformer(transformers=[(&#x27;num&#x27;,\n",
       "                                 Pipeline(steps=[(&#x27;imputer&#x27;,\n",
       "                                                  SimpleImputer(strategy=&#x27;most_frequent&#x27;)),\n",
       "                                                 (&#x27;scaler&#x27;, StandardScaler())]),\n",
       "                                 [&#x27;JobInvolvement&#x27;, &#x27;PerformanceRating&#x27;,\n",
       "                                  &#x27;EnvironmentSatisfaction&#x27;, &#x27;JobSatisfaction&#x27;,\n",
       "                                  &#x27;WorkLifeBalance&#x27;, &#x27;Age&#x27;, &#x27;DistanceFromHome&#x27;,\n",
       "                                  &#x27;Education&#x27;, &#x27;JobLevel&#x27;, &#x27;MonthlyIncome&#x27;,\n",
       "                                  &#x27;NumCompaniesWorked&#x27;, &#x27;PercentSalaryHike&#x27;,\n",
       "                                  &#x27;StockOptionLevel&#x27;, &#x27;TotalWorkingYears&#x27;,\n",
       "                                  &#x27;TrainingTimesLastYear&#x27;, &#x27;YearsAtCompany&#x27;,\n",
       "                                  &#x27;YearsSinceLastPromotion&#x27;,\n",
       "                                  &#x27;YearsWithCurrManager&#x27;]),\n",
       "                                (&#x27;cat&#x27;,\n",
       "                                 Pipeline(steps=[(&#x27;encoder&#x27;,\n",
       "                                                  OneHotEncoder(drop=&#x27;first&#x27;,\n",
       "                                                                sparse_output=False))]),\n",
       "                                 [&#x27;BusinessTravel&#x27;, &#x27;Department&#x27;,\n",
       "                                  &#x27;EducationField&#x27;, &#x27;Gender&#x27;, &#x27;JobRole&#x27;,\n",
       "                                  &#x27;MaritalStatus&#x27;])])</pre></div></div></div><div class=\"sk-parallel\"><div class=\"sk-parallel-item\"><div class=\"sk-item\"><div class=\"sk-label-container\"><div class=\"sk-label sk-toggleable\"><input class=\"sk-toggleable__control sk-hidden--visually\" id=\"sk-estimator-id-3\" type=\"checkbox\" ><label for=\"sk-estimator-id-3\" class=\"sk-toggleable__label sk-toggleable__label-arrow\">num</label><div class=\"sk-toggleable__content\"><pre>[&#x27;JobInvolvement&#x27;, &#x27;PerformanceRating&#x27;, &#x27;EnvironmentSatisfaction&#x27;, &#x27;JobSatisfaction&#x27;, &#x27;WorkLifeBalance&#x27;, &#x27;Age&#x27;, &#x27;DistanceFromHome&#x27;, &#x27;Education&#x27;, &#x27;JobLevel&#x27;, &#x27;MonthlyIncome&#x27;, &#x27;NumCompaniesWorked&#x27;, &#x27;PercentSalaryHike&#x27;, &#x27;StockOptionLevel&#x27;, &#x27;TotalWorkingYears&#x27;, &#x27;TrainingTimesLastYear&#x27;, &#x27;YearsAtCompany&#x27;, &#x27;YearsSinceLastPromotion&#x27;, &#x27;YearsWithCurrManager&#x27;]</pre></div></div></div><div class=\"sk-serial\"><div class=\"sk-item\"><div class=\"sk-serial\"><div class=\"sk-item\"><div class=\"sk-estimator sk-toggleable\"><input class=\"sk-toggleable__control sk-hidden--visually\" id=\"sk-estimator-id-4\" type=\"checkbox\" ><label for=\"sk-estimator-id-4\" class=\"sk-toggleable__label sk-toggleable__label-arrow\">SimpleImputer</label><div class=\"sk-toggleable__content\"><pre>SimpleImputer(strategy=&#x27;most_frequent&#x27;)</pre></div></div></div><div class=\"sk-item\"><div class=\"sk-estimator sk-toggleable\"><input class=\"sk-toggleable__control sk-hidden--visually\" id=\"sk-estimator-id-5\" type=\"checkbox\" ><label for=\"sk-estimator-id-5\" class=\"sk-toggleable__label sk-toggleable__label-arrow\">StandardScaler</label><div class=\"sk-toggleable__content\"><pre>StandardScaler()</pre></div></div></div></div></div></div></div></div><div class=\"sk-parallel-item\"><div class=\"sk-item\"><div class=\"sk-label-container\"><div class=\"sk-label sk-toggleable\"><input class=\"sk-toggleable__control sk-hidden--visually\" id=\"sk-estimator-id-6\" type=\"checkbox\" ><label for=\"sk-estimator-id-6\" class=\"sk-toggleable__label sk-toggleable__label-arrow\">cat</label><div class=\"sk-toggleable__content\"><pre>[&#x27;BusinessTravel&#x27;, &#x27;Department&#x27;, &#x27;EducationField&#x27;, &#x27;Gender&#x27;, &#x27;JobRole&#x27;, &#x27;MaritalStatus&#x27;]</pre></div></div></div><div class=\"sk-serial\"><div class=\"sk-item\"><div class=\"sk-serial\"><div class=\"sk-item\"><div class=\"sk-estimator sk-toggleable\"><input class=\"sk-toggleable__control sk-hidden--visually\" id=\"sk-estimator-id-7\" type=\"checkbox\" ><label for=\"sk-estimator-id-7\" class=\"sk-toggleable__label sk-toggleable__label-arrow\">OneHotEncoder</label><div class=\"sk-toggleable__content\"><pre>OneHotEncoder(drop=&#x27;first&#x27;, sparse_output=False)</pre></div></div></div></div></div></div></div></div></div></div><div class=\"sk-item\"><div class=\"sk-estimator sk-toggleable\"><input class=\"sk-toggleable__control sk-hidden--visually\" id=\"sk-estimator-id-8\" type=\"checkbox\" ><label for=\"sk-estimator-id-8\" class=\"sk-toggleable__label sk-toggleable__label-arrow\">ExtraTreesClassifier</label><div class=\"sk-toggleable__content\"><pre>ExtraTreesClassifier()</pre></div></div></div></div></div></div></div>"
      ],
      "text/plain": [
       "Pipeline(steps=[('preprocessing',\n",
       "                 ColumnTransformer(transformers=[('num',\n",
       "                                                  Pipeline(steps=[('imputer',\n",
       "                                                                   SimpleImputer(strategy='most_frequent')),\n",
       "                                                                  ('scaler',\n",
       "                                                                   StandardScaler())]),\n",
       "                                                  ['JobInvolvement',\n",
       "                                                   'PerformanceRating',\n",
       "                                                   'EnvironmentSatisfaction',\n",
       "                                                   'JobSatisfaction',\n",
       "                                                   'WorkLifeBalance', 'Age',\n",
       "                                                   'DistanceFromHome',\n",
       "                                                   'Education', 'JobLevel',\n",
       "                                                   'MonthlyIncome',\n",
       "                                                   'NumCompaniesWor...\n",
       "                                                   'PercentSalaryHike',\n",
       "                                                   'StockOptionLevel',\n",
       "                                                   'TotalWorkingYears',\n",
       "                                                   'TrainingTimesLastYear',\n",
       "                                                   'YearsAtCompany',\n",
       "                                                   'YearsSinceLastPromotion',\n",
       "                                                   'YearsWithCurrManager']),\n",
       "                                                 ('cat',\n",
       "                                                  Pipeline(steps=[('encoder',\n",
       "                                                                   OneHotEncoder(drop='first',\n",
       "                                                                                 sparse_output=False))]),\n",
       "                                                  ['BusinessTravel',\n",
       "                                                   'Department',\n",
       "                                                   'EducationField', 'Gender',\n",
       "                                                   'JobRole',\n",
       "                                                   'MaritalStatus'])])),\n",
       "                ('ETC', ExtraTreesClassifier())])"
      ]
     },
     "execution_count": 27,
     "metadata": {},
     "output_type": "execute_result"
    }
   ],
   "source": [
    "pipe.fit(X_train,y_train)"
   ]
  },
  {
   "cell_type": "code",
   "execution_count": 28,
   "id": "7bbbf67f",
   "metadata": {
    "execution": {
     "iopub.execute_input": "2024-07-10T15:12:30.209334Z",
     "iopub.status.busy": "2024-07-10T15:12:30.208394Z",
     "iopub.status.idle": "2024-07-10T15:12:30.253365Z",
     "shell.execute_reply": "2024-07-10T15:12:30.251938Z"
    },
    "papermill": {
     "duration": 0.076472,
     "end_time": "2024-07-10T15:12:30.256164",
     "exception": false,
     "start_time": "2024-07-10T15:12:30.179692",
     "status": "completed"
    },
    "tags": []
   },
   "outputs": [
    {
     "name": "stdout",
     "output_type": "stream",
     "text": [
      "accuracy score of ETC: 0.9863945578231292\n"
     ]
    }
   ],
   "source": [
    "print('accuracy score of ETC:',accuracy_score(pipe.predict(X_test),y_test))"
   ]
  },
  {
   "cell_type": "markdown",
   "id": "f28b3367",
   "metadata": {
    "papermill": {
     "duration": 0.023739,
     "end_time": "2024-07-10T15:12:30.299479",
     "exception": false,
     "start_time": "2024-07-10T15:12:30.275740",
     "status": "completed"
    },
    "tags": []
   },
   "source": [
    "# Confusion Matrix for the Entire Dataset"
   ]
  },
  {
   "cell_type": "code",
   "execution_count": 29,
   "id": "d50f6ced",
   "metadata": {
    "execution": {
     "iopub.execute_input": "2024-07-10T15:12:30.359564Z",
     "iopub.status.busy": "2024-07-10T15:12:30.358929Z",
     "iopub.status.idle": "2024-07-10T15:12:30.478534Z",
     "shell.execute_reply": "2024-07-10T15:12:30.477320Z"
    },
    "papermill": {
     "duration": 0.155322,
     "end_time": "2024-07-10T15:12:30.481286",
     "exception": false,
     "start_time": "2024-07-10T15:12:30.325964",
     "status": "completed"
    },
    "tags": []
   },
   "outputs": [],
   "source": [
    "x_entire_data=pipe.predict(X)"
   ]
  },
  {
   "cell_type": "code",
   "execution_count": 30,
   "id": "13dca5b0",
   "metadata": {
    "execution": {
     "iopub.execute_input": "2024-07-10T15:12:30.528861Z",
     "iopub.status.busy": "2024-07-10T15:12:30.528044Z",
     "iopub.status.idle": "2024-07-10T15:12:31.195209Z",
     "shell.execute_reply": "2024-07-10T15:12:31.193696Z"
    },
    "papermill": {
     "duration": 0.695707,
     "end_time": "2024-07-10T15:12:31.198469",
     "exception": false,
     "start_time": "2024-07-10T15:12:30.502762",
     "status": "completed"
    },
    "tags": []
   },
   "outputs": [
    {
     "data": {
      "text/plain": [
       "Text(70.72222222222221, 0.5, 'Actual Value')"
      ]
     },
     "execution_count": 30,
     "metadata": {},
     "output_type": "execute_result"
    },
    {
     "data": {
      "image/png": "[encoded data removed]",
      "text/plain": [
       "<Figure size 800x400 with 2 Axes>"
      ]
     },
     "metadata": {},
     "output_type": "display_data"
    }
   ],
   "source": [
    "import matplotlib.pyplot as plt\n",
    "import seaborn as sns\n",
    "cm1 = confusion_matrix(x_entire_data,y)\n",
    "\n",
    "plt.figure(figsize=(8,4))\n",
    "plt.title('Confusion Matrix for entire Data', fontsize=12)\n",
    "sns.heatmap(cm1, annot=True, fmt='g', cmap='coolwarm')\n",
    "plt.xlabel('Predicted Value', fontsize=14)\n",
    "plt.ylabel('Actual Value', fontsize=14)"
   ]
  },
  {
   "cell_type": "markdown",
   "id": "04380390",
   "metadata": {
    "papermill": {
     "duration": 0.02097,
     "end_time": "2024-07-10T15:12:31.242746",
     "exception": false,
     "start_time": "2024-07-10T15:12:31.221776",
     "status": "completed"
    },
    "tags": []
   },
   "source": [
    "# Cross Validation"
   ]
  },
  {
   "cell_type": "code",
   "execution_count": 31,
   "id": "dd8aebbb",
   "metadata": {
    "execution": {
     "iopub.execute_input": "2024-07-10T15:12:31.288079Z",
     "iopub.status.busy": "2024-07-10T15:12:31.287149Z",
     "iopub.status.idle": "2024-07-10T15:12:31.292591Z",
     "shell.execute_reply": "2024-07-10T15:12:31.291447Z"
    },
    "papermill": {
     "duration": 0.030267,
     "end_time": "2024-07-10T15:12:31.295055",
     "exception": false,
     "start_time": "2024-07-10T15:12:31.264788",
     "status": "completed"
    },
    "tags": []
   },
   "outputs": [],
   "source": [
    "from sklearn.model_selection import cross_val_score"
   ]
  },
  {
   "cell_type": "code",
   "execution_count": 32,
   "id": "3e0952a8",
   "metadata": {
    "execution": {
     "iopub.execute_input": "2024-07-10T15:12:31.339504Z",
     "iopub.status.busy": "2024-07-10T15:12:31.338091Z",
     "iopub.status.idle": "2024-07-10T15:12:36.648947Z",
     "shell.execute_reply": "2024-07-10T15:12:36.647258Z"
    },
    "papermill": {
     "duration": 5.33621,
     "end_time": "2024-07-10T15:12:36.651998",
     "exception": false,
     "start_time": "2024-07-10T15:12:31.315788",
     "status": "completed"
    },
    "tags": []
   },
   "outputs": [
    {
     "name": "stdout",
     "output_type": "stream",
     "text": [
      "Cross-validation scores:  [0.98866856 0.99150142 0.98866856 0.98866856 0.98300283 0.98866856\n",
      " 0.99150142 0.98583569 0.98579545 0.98011364]\n",
      "Mean cross-validation score:  0.9872424671645635\n",
      "Standard deviation of cross-validation scores:  0.003424613704250983\n",
      "Test set accuracy:  0.9863945578231292\n"
     ]
    }
   ],
   "source": [
    "cv_scores = cross_val_score(pipe, X_train, y_train, cv=10, scoring='accuracy', n_jobs=-1)\n",
    "\n",
    "\n",
    "print(\"Cross-validation scores: \", cv_scores)\n",
    "print(\"Mean cross-validation score: \", np.mean(cv_scores))\n",
    "print(\"Standard deviation of cross-validation scores: \", np.std(cv_scores))\n",
    "\n",
    "pipe.fit(X_train, y_train)\n",
    "\n",
    "test_score = pipe.score(X_test, y_test)\n",
    "print(\"Test set accuracy: \", test_score)"
   ]
  },
  {
   "cell_type": "markdown",
   "id": "c1fee46e",
   "metadata": {
    "papermill": {
     "duration": 0.020451,
     "end_time": "2024-07-10T15:12:36.693720",
     "exception": false,
     "start_time": "2024-07-10T15:12:36.673269",
     "status": "completed"
    },
    "tags": []
   },
   "source": [
    "# All Models with Pipeline"
   ]
  },
  {
   "cell_type": "code",
   "execution_count": 33,
   "id": "b9bb3997",
   "metadata": {
    "execution": {
     "iopub.execute_input": "2024-07-10T15:12:36.737960Z",
     "iopub.status.busy": "2024-07-10T15:12:36.737142Z",
     "iopub.status.idle": "2024-07-10T15:12:36.744367Z",
     "shell.execute_reply": "2024-07-10T15:12:36.743067Z"
    },
    "papermill": {
     "duration": 0.032411,
     "end_time": "2024-07-10T15:12:36.747298",
     "exception": false,
     "start_time": "2024-07-10T15:12:36.714887",
     "status": "completed"
    },
    "tags": []
   },
   "outputs": [],
   "source": [
    "clfs={\n",
    "    'Logistic_Regression':LogisticRegression(),\n",
    "    'SVC':SVC(),\n",
    "    'DecisionTree':DecisionTreeClassifier(),\n",
    "    'RandomForest':RandomForestClassifier(),\n",
    "    'ExtraTreeClassifier':ExtraTreesClassifier(),\n",
    "    'XGB':XGBClassifier(),\n",
    "    'AdaBoost':AdaBoostClassifier(),\n",
    "    'KNN':KNeighborsClassifier()\n",
    "}"
   ]
  },
  {
   "cell_type": "code",
   "execution_count": 34,
   "id": "add310cc",
   "metadata": {
    "execution": {
     "iopub.execute_input": "2024-07-10T15:12:36.792701Z",
     "iopub.status.busy": "2024-07-10T15:12:36.792313Z",
     "iopub.status.idle": "2024-07-10T15:12:41.029268Z",
     "shell.execute_reply": "2024-07-10T15:12:41.027413Z"
    },
    "papermill": {
     "duration": 4.263749,
     "end_time": "2024-07-10T15:12:41.033162",
     "exception": false,
     "start_time": "2024-07-10T15:12:36.769413",
     "status": "completed"
    },
    "tags": []
   },
   "outputs": [],
   "source": [
    "result=[]\n",
    "for key,clf in clfs.items():\n",
    "    pipe=Pipeline(steps=[\n",
    "    ('preprocessing',preprocessor),\n",
    "    ('clf',clf)\n",
    "])\n",
    "    pipe.fit(X_train,y_train)\n",
    "    accuracy=accuracy_score(pipe.predict(X_test),y_test)\n",
    "    precision=precision_score(pipe.predict(X_test),y_test)\n",
    "    recall=recall_score(pipe.predict(X_test),y_test)\n",
    "    f1=f1_score(pipe.predict(X_test),y_test)\n",
    "    result.append([key,accuracy,precision,recall,f1])\n",
    "    "
   ]
  },
  {
   "cell_type": "code",
   "execution_count": 35,
   "id": "a11f3ba9",
   "metadata": {
    "execution": {
     "iopub.execute_input": "2024-07-10T15:12:41.079039Z",
     "iopub.status.busy": "2024-07-10T15:12:41.078200Z",
     "iopub.status.idle": "2024-07-10T15:12:41.085595Z",
     "shell.execute_reply": "2024-07-10T15:12:41.084062Z"
    },
    "papermill": {
     "duration": 0.033432,
     "end_time": "2024-07-10T15:12:41.088554",
     "exception": false,
     "start_time": "2024-07-10T15:12:41.055122",
     "status": "completed"
    },
    "tags": []
   },
   "outputs": [],
   "source": [
    "results=pd.DataFrame(result,columns=['clf','accuracy','precision','recall','f1-score'])"
   ]
  },
  {
   "cell_type": "code",
   "execution_count": 36,
   "id": "3eac0b94",
   "metadata": {
    "execution": {
     "iopub.execute_input": "2024-07-10T15:12:41.144522Z",
     "iopub.status.busy": "2024-07-10T15:12:41.142866Z",
     "iopub.status.idle": "2024-07-10T15:12:41.165000Z",
     "shell.execute_reply": "2024-07-10T15:12:41.163785Z"
    },
    "papermill": {
     "duration": 0.05188,
     "end_time": "2024-07-10T15:12:41.168090",
     "exception": false,
     "start_time": "2024-07-10T15:12:41.116210",
     "status": "completed"
    },
    "tags": []
   },
   "outputs": [
    {
     "data": {
      "text/html": [
       "<div>\n",
       "<style scoped>\n",
       "    .dataframe tbody tr th:only-of-type {\n",
       "        vertical-align: middle;\n",
       "    }\n",
       "\n",
       "    .dataframe tbody tr th {\n",
       "        vertical-align: top;\n",
       "    }\n",
       "\n",
       "    .dataframe thead th {\n",
       "        text-align: right;\n",
       "    }\n",
       "</style>\n",
       "<table border=\"1\" class=\"dataframe\">\n",
       "  <thead>\n",
       "    <tr style=\"text-align: right;\">\n",
       "      <th></th>\n",
       "      <th>clf</th>\n",
       "      <th>accuracy</th>\n",
       "      <th>precision</th>\n",
       "      <th>recall</th>\n",
       "      <th>f1-score</th>\n",
       "    </tr>\n",
       "  </thead>\n",
       "  <tbody>\n",
       "    <tr>\n",
       "      <th>3</th>\n",
       "      <td>RandomForest</td>\n",
       "      <td>0.986395</td>\n",
       "      <td>0.939189</td>\n",
       "      <td>0.978873</td>\n",
       "      <td>0.958621</td>\n",
       "    </tr>\n",
       "    <tr>\n",
       "      <th>4</th>\n",
       "      <td>ExtraTreeClassifier</td>\n",
       "      <td>0.986395</td>\n",
       "      <td>0.918919</td>\n",
       "      <td>1.000000</td>\n",
       "      <td>0.957746</td>\n",
       "    </tr>\n",
       "    <tr>\n",
       "      <th>5</th>\n",
       "      <td>XGB</td>\n",
       "      <td>0.985261</td>\n",
       "      <td>0.932432</td>\n",
       "      <td>0.978723</td>\n",
       "      <td>0.955017</td>\n",
       "    </tr>\n",
       "    <tr>\n",
       "      <th>2</th>\n",
       "      <td>DecisionTree</td>\n",
       "      <td>0.981859</td>\n",
       "      <td>0.972973</td>\n",
       "      <td>0.923077</td>\n",
       "      <td>0.947368</td>\n",
       "    </tr>\n",
       "    <tr>\n",
       "      <th>1</th>\n",
       "      <td>SVC</td>\n",
       "      <td>0.886621</td>\n",
       "      <td>0.364865</td>\n",
       "      <td>0.900000</td>\n",
       "      <td>0.519231</td>\n",
       "    </tr>\n",
       "    <tr>\n",
       "      <th>6</th>\n",
       "      <td>AdaBoost</td>\n",
       "      <td>0.846939</td>\n",
       "      <td>0.243243</td>\n",
       "      <td>0.610169</td>\n",
       "      <td>0.347826</td>\n",
       "    </tr>\n",
       "    <tr>\n",
       "      <th>0</th>\n",
       "      <td>Logistic_Regression</td>\n",
       "      <td>0.835601</td>\n",
       "      <td>0.114865</td>\n",
       "      <td>0.548387</td>\n",
       "      <td>0.189944</td>\n",
       "    </tr>\n",
       "    <tr>\n",
       "      <th>7</th>\n",
       "      <td>KNN</td>\n",
       "      <td>0.815193</td>\n",
       "      <td>0.304054</td>\n",
       "      <td>0.428571</td>\n",
       "      <td>0.355731</td>\n",
       "    </tr>\n",
       "  </tbody>\n",
       "</table>\n",
       "</div>"
      ],
      "text/plain": [
       "                   clf  accuracy  precision    recall  f1-score\n",
       "3         RandomForest  0.986395   0.939189  0.978873  0.958621\n",
       "4  ExtraTreeClassifier  0.986395   0.918919  1.000000  0.957746\n",
       "5                  XGB  0.985261   0.932432  0.978723  0.955017\n",
       "2         DecisionTree  0.981859   0.972973  0.923077  0.947368\n",
       "1                  SVC  0.886621   0.364865  0.900000  0.519231\n",
       "6             AdaBoost  0.846939   0.243243  0.610169  0.347826\n",
       "0  Logistic_Regression  0.835601   0.114865  0.548387  0.189944\n",
       "7                  KNN  0.815193   0.304054  0.428571  0.355731"
      ]
     },
     "execution_count": 36,
     "metadata": {},
     "output_type": "execute_result"
    }
   ],
   "source": [
    "results.sort_values(by='accuracy',ascending=False)"
   ]
  },
  {
   "cell_type": "markdown",
   "id": "5f04aa63",
   "metadata": {
    "papermill": {
     "duration": 0.020476,
     "end_time": "2024-07-10T15:12:41.212311",
     "exception": false,
     "start_time": "2024-07-10T15:12:41.191835",
     "status": "completed"
    },
    "tags": []
   },
   "source": [
    "# Cross Validating all Models with Pipeline"
   ]
  },
  {
   "cell_type": "code",
   "execution_count": 37,
   "id": "5f012edd",
   "metadata": {
    "execution": {
     "iopub.execute_input": "2024-07-10T15:12:41.256962Z",
     "iopub.status.busy": "2024-07-10T15:12:41.256578Z",
     "iopub.status.idle": "2024-07-10T15:12:53.610219Z",
     "shell.execute_reply": "2024-07-10T15:12:53.608865Z"
    },
    "papermill": {
     "duration": 12.38013,
     "end_time": "2024-07-10T15:12:53.613078",
     "exception": false,
     "start_time": "2024-07-10T15:12:41.232948",
     "status": "completed"
    },
    "tags": []
   },
   "outputs": [],
   "source": [
    "result_with_cv=[]\n",
    "for key,clf in clfs.items():\n",
    "    pipe=Pipeline(steps=[\n",
    "    ('preprocessing',preprocessor),\n",
    "    ('clf',clf)\n",
    "])\n",
    "    pipe.fit(X_train,y_train)\n",
    "    accuracy=accuracy_score(pipe.predict(X_test),y_test)\n",
    "    precision=precision_score(pipe.predict(X_test),y_test)\n",
    "    recall=recall_score(pipe.predict(X_test),y_test)\n",
    "    f1=f1_score(pipe.predict(X_test),y_test)\n",
    "    cv_scores = cross_val_score(pipe, X_train, y_train, cv=5, scoring='accuracy', n_jobs=-1)\n",
    "\n",
    "    pipe.fit(X_train, y_train)\n",
    "\n",
    "    test_score =  np.mean(cv_scores)\n",
    "    result_with_cv.append([key,accuracy,precision,recall,f1,test_score])\n",
    "    "
   ]
  },
  {
   "cell_type": "code",
   "execution_count": 38,
   "id": "fe041790",
   "metadata": {
    "execution": {
     "iopub.execute_input": "2024-07-10T15:12:53.657045Z",
     "iopub.status.busy": "2024-07-10T15:12:53.656637Z",
     "iopub.status.idle": "2024-07-10T15:12:53.663135Z",
     "shell.execute_reply": "2024-07-10T15:12:53.662070Z"
    },
    "papermill": {
     "duration": 0.031804,
     "end_time": "2024-07-10T15:12:53.665613",
     "exception": false,
     "start_time": "2024-07-10T15:12:53.633809",
     "status": "completed"
    },
    "tags": []
   },
   "outputs": [],
   "source": [
    "results_with_cv_df=pd.DataFrame(result_with_cv,columns=['clf','accuracy','precision','recall','f1-score','Mean-cv-score'])"
   ]
  },
  {
   "cell_type": "code",
   "execution_count": 39,
   "id": "0ca25472",
   "metadata": {
    "execution": {
     "iopub.execute_input": "2024-07-10T15:12:53.708377Z",
     "iopub.status.busy": "2024-07-10T15:12:53.707965Z",
     "iopub.status.idle": "2024-07-10T15:12:53.725537Z",
     "shell.execute_reply": "2024-07-10T15:12:53.724148Z"
    },
    "papermill": {
     "duration": 0.042115,
     "end_time": "2024-07-10T15:12:53.728278",
     "exception": false,
     "start_time": "2024-07-10T15:12:53.686163",
     "status": "completed"
    },
    "tags": []
   },
   "outputs": [
    {
     "data": {
      "text/html": [
       "<div>\n",
       "<style scoped>\n",
       "    .dataframe tbody tr th:only-of-type {\n",
       "        vertical-align: middle;\n",
       "    }\n",
       "\n",
       "    .dataframe tbody tr th {\n",
       "        vertical-align: top;\n",
       "    }\n",
       "\n",
       "    .dataframe thead th {\n",
       "        text-align: right;\n",
       "    }\n",
       "</style>\n",
       "<table border=\"1\" class=\"dataframe\">\n",
       "  <thead>\n",
       "    <tr style=\"text-align: right;\">\n",
       "      <th></th>\n",
       "      <th>clf</th>\n",
       "      <th>accuracy</th>\n",
       "      <th>precision</th>\n",
       "      <th>recall</th>\n",
       "      <th>f1-score</th>\n",
       "      <th>Mean-cv-score</th>\n",
       "    </tr>\n",
       "  </thead>\n",
       "  <tbody>\n",
       "    <tr>\n",
       "      <th>4</th>\n",
       "      <td>ExtraTreeClassifier</td>\n",
       "      <td>0.986395</td>\n",
       "      <td>0.918919</td>\n",
       "      <td>1.000000</td>\n",
       "      <td>0.957746</td>\n",
       "      <td>0.981009</td>\n",
       "    </tr>\n",
       "    <tr>\n",
       "      <th>2</th>\n",
       "      <td>DecisionTree</td>\n",
       "      <td>0.985261</td>\n",
       "      <td>0.972973</td>\n",
       "      <td>0.941176</td>\n",
       "      <td>0.956811</td>\n",
       "      <td>0.967689</td>\n",
       "    </tr>\n",
       "    <tr>\n",
       "      <th>5</th>\n",
       "      <td>XGB</td>\n",
       "      <td>0.985261</td>\n",
       "      <td>0.932432</td>\n",
       "      <td>0.978723</td>\n",
       "      <td>0.955017</td>\n",
       "      <td>0.978175</td>\n",
       "    </tr>\n",
       "    <tr>\n",
       "      <th>3</th>\n",
       "      <td>RandomForest</td>\n",
       "      <td>0.979592</td>\n",
       "      <td>0.918919</td>\n",
       "      <td>0.957746</td>\n",
       "      <td>0.937931</td>\n",
       "      <td>0.980725</td>\n",
       "    </tr>\n",
       "    <tr>\n",
       "      <th>1</th>\n",
       "      <td>SVC</td>\n",
       "      <td>0.886621</td>\n",
       "      <td>0.364865</td>\n",
       "      <td>0.900000</td>\n",
       "      <td>0.519231</td>\n",
       "      <td>0.899942</td>\n",
       "    </tr>\n",
       "    <tr>\n",
       "      <th>6</th>\n",
       "      <td>AdaBoost</td>\n",
       "      <td>0.846939</td>\n",
       "      <td>0.243243</td>\n",
       "      <td>0.610169</td>\n",
       "      <td>0.347826</td>\n",
       "      <td>0.861400</td>\n",
       "    </tr>\n",
       "    <tr>\n",
       "      <th>0</th>\n",
       "      <td>Logistic_Regression</td>\n",
       "      <td>0.835601</td>\n",
       "      <td>0.114865</td>\n",
       "      <td>0.548387</td>\n",
       "      <td>0.189944</td>\n",
       "      <td>0.852610</td>\n",
       "    </tr>\n",
       "    <tr>\n",
       "      <th>7</th>\n",
       "      <td>KNN</td>\n",
       "      <td>0.815193</td>\n",
       "      <td>0.304054</td>\n",
       "      <td>0.428571</td>\n",
       "      <td>0.355731</td>\n",
       "      <td>0.839281</td>\n",
       "    </tr>\n",
       "  </tbody>\n",
       "</table>\n",
       "</div>"
      ],
      "text/plain": [
       "                   clf  accuracy  precision    recall  f1-score  Mean-cv-score\n",
       "4  ExtraTreeClassifier  0.986395   0.918919  1.000000  0.957746       0.981009\n",
       "2         DecisionTree  0.985261   0.972973  0.941176  0.956811       0.967689\n",
       "5                  XGB  0.985261   0.932432  0.978723  0.955017       0.978175\n",
       "3         RandomForest  0.979592   0.918919  0.957746  0.937931       0.980725\n",
       "1                  SVC  0.886621   0.364865  0.900000  0.519231       0.899942\n",
       "6             AdaBoost  0.846939   0.243243  0.610169  0.347826       0.861400\n",
       "0  Logistic_Regression  0.835601   0.114865  0.548387  0.189944       0.852610\n",
       "7                  KNN  0.815193   0.304054  0.428571  0.355731       0.839281"
      ]
     },
     "execution_count": 39,
     "metadata": {},
     "output_type": "execute_result"
    }
   ],
   "source": [
    "results_with_cv_df.sort_values(by='accuracy',ascending=False)"
   ]
  },
  {
   "cell_type": "markdown",
   "id": "eb6063e2",
   "metadata": {
    "papermill": {
     "duration": 0.021604,
     "end_time": "2024-07-10T15:12:53.771953",
     "exception": false,
     "start_time": "2024-07-10T15:12:53.750349",
     "status": "completed"
    },
    "tags": []
   },
   "source": [
    "<div class=\"alert alert-block alert-info\" style=\"color:#942392;font-size: 20px;\"> 📌 For our Problem statement recall is very much important, Extra Tree Classifier and Random Forest Classifier are performing very well in terms of recall. So we can Further tune and save our Model using pickle.📌</div>"
   ]
  },
  {
   "cell_type": "markdown",
   "id": "760eb812",
   "metadata": {
    "papermill": {
     "duration": 0.021234,
     "end_time": "2024-07-10T15:12:53.815019",
     "exception": false,
     "start_time": "2024-07-10T15:12:53.793785",
     "status": "completed"
    },
    "tags": []
   },
   "source": [
    "<div class=\"alert alert-block alert-info\" style=\"font-size: 25px;\"> 📌 If you found this helpful then please upvote ⬆⬆ it and share your thoughts in the comment section. Thank you for reading this Notebook.📌</div>"
   ]
  },
  {
   "cell_type": "code",
   "execution_count": null,
   "id": "f230bdcd",
   "metadata": {
    "papermill": {
     "duration": 0.0216,
     "end_time": "2024-07-10T15:12:53.858286",
     "exception": false,
     "start_time": "2024-07-10T15:12:53.836686",
     "status": "completed"
    },
    "tags": []
   },
   "outputs": [],
   "source": []
  }
 ],
 "metadata": {
  "kaggle": {
   "accelerator": "none",
   "dataSources": [
    {
     "datasetId": 5038041,
     "sourceId": 8453416,
     "sourceType": "datasetVersion"
    }
   ],
   "dockerImageVersionId": 30732,
   "isGpuEnabled": false,
   "isInternetEnabled": true,
   "language": "python",
   "sourceType": "notebook"
  },
  "kernelspec": {
   "display_name": "Python 3",
   "language": "python",
   "name": "python3"
  },
  "language_info": {
   "codemirror_mode": {
    "name": "ipython",
    "version": 3
   },
   "file_extension": ".py",
   "mimetype": "text/x-python",
   "name": "python",
   "nbconvert_exporter": "python",
   "pygments_lexer": "ipython3",
   "version": "3.10.13"
  },
  "papermill": {
   "default_parameters": {},
   "duration": 34.783865,
   "end_time": "2024-07-10T15:12:56.502311",
   "environment_variables": {},
   "exception": null,
   "input_path": "__notebook__.ipynb",
   "output_path": "__notebook__.ipynb",
   "parameters": {},
   "start_time": "2024-07-10T15:12:21.718446",
   "version": "2.5.0"
  }
 },
 "nbformat": 4,
 "nbformat_minor": 5
}
